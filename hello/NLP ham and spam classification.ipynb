{
 "cells": [
  {
   "cell_type": "code",
   "execution_count": 1,
   "id": "3468d0ce-2266-4f4f-bf18-39242f7d0171",
   "metadata": {},
   "outputs": [],
   "source": [
    "import pandas as pd\n",
    "import numpy as np\n",
    "import spacy\n",
    "import nltk\n",
    "from sklearn.model_selection import train_test_split\n",
    "import tensorflow as tf\n",
    "from tensorflow.keras.models import Sequential\n",
    "from tensorflow.keras.layers import Dense, LSTM\n",
    "from sklearn.linear_model import LogisticRegression\n",
    "from sklearn.metrics._classification import classification_report\n",
    "from nltk.corpus import stopwords\n",
    "from sklearn.feature_extraction.text import TfidfVectorizer \n",
    "import re\n",
    "from sklearn.ensemble import GradientBoostingClassifier"
   ]
  },
  {
   "cell_type": "code",
   "execution_count": 2,
   "id": "d4311df4-d2d1-4080-acb6-d90a6fc01cb8",
   "metadata": {},
   "outputs": [],
   "source": [
    "df = pd.read_csv(\"D:\\\\NLP projects\\\\fake_and_real_news.csv\")"
   ]
  },
  {
   "cell_type": "code",
   "execution_count": 3,
   "id": "86305d55-657e-4c4b-9fcf-ddc5de95b2ed",
   "metadata": {},
   "outputs": [
    {
     "data": {
      "text/html": [
       "<div>\n",
       "<style scoped>\n",
       "    .dataframe tbody tr th:only-of-type {\n",
       "        vertical-align: middle;\n",
       "    }\n",
       "\n",
       "    .dataframe tbody tr th {\n",
       "        vertical-align: top;\n",
       "    }\n",
       "\n",
       "    .dataframe thead th {\n",
       "        text-align: right;\n",
       "    }\n",
       "</style>\n",
       "<table border=\"1\" class=\"dataframe\">\n",
       "  <thead>\n",
       "    <tr style=\"text-align: right;\">\n",
       "      <th></th>\n",
       "      <th>Text</th>\n",
       "      <th>label</th>\n",
       "    </tr>\n",
       "  </thead>\n",
       "  <tbody>\n",
       "    <tr>\n",
       "      <th>0</th>\n",
       "      <td>Top Trump Surrogate BRUTALLY Stabs Him In The...</td>\n",
       "      <td>Fake</td>\n",
       "    </tr>\n",
       "    <tr>\n",
       "      <th>1</th>\n",
       "      <td>U.S. conservative leader optimistic of common ...</td>\n",
       "      <td>Real</td>\n",
       "    </tr>\n",
       "    <tr>\n",
       "      <th>2</th>\n",
       "      <td>Trump proposes U.S. tax overhaul, stirs concer...</td>\n",
       "      <td>Real</td>\n",
       "    </tr>\n",
       "    <tr>\n",
       "      <th>3</th>\n",
       "      <td>Court Forces Ohio To Allow Millions Of Illega...</td>\n",
       "      <td>Fake</td>\n",
       "    </tr>\n",
       "    <tr>\n",
       "      <th>4</th>\n",
       "      <td>Democrats say Trump agrees to work on immigrat...</td>\n",
       "      <td>Real</td>\n",
       "    </tr>\n",
       "    <tr>\n",
       "      <th>...</th>\n",
       "      <td>...</td>\n",
       "      <td>...</td>\n",
       "    </tr>\n",
       "    <tr>\n",
       "      <th>9895</th>\n",
       "      <td>Wikileaks Admits To Screwing Up IMMENSELY Wit...</td>\n",
       "      <td>Fake</td>\n",
       "    </tr>\n",
       "    <tr>\n",
       "      <th>9896</th>\n",
       "      <td>Trump consults Republican senators on Fed chie...</td>\n",
       "      <td>Real</td>\n",
       "    </tr>\n",
       "    <tr>\n",
       "      <th>9897</th>\n",
       "      <td>Trump lawyers say judge lacks jurisdiction for...</td>\n",
       "      <td>Real</td>\n",
       "    </tr>\n",
       "    <tr>\n",
       "      <th>9898</th>\n",
       "      <td>WATCH: Right-Wing Pastor Falsely Credits Trum...</td>\n",
       "      <td>Fake</td>\n",
       "    </tr>\n",
       "    <tr>\n",
       "      <th>9899</th>\n",
       "      <td>Sean Spicer HILARIOUSLY Branded As Chickensh*...</td>\n",
       "      <td>Fake</td>\n",
       "    </tr>\n",
       "  </tbody>\n",
       "</table>\n",
       "<p>9900 rows × 2 columns</p>\n",
       "</div>"
      ],
      "text/plain": [
       "                                                   Text label\n",
       "0      Top Trump Surrogate BRUTALLY Stabs Him In The...  Fake\n",
       "1     U.S. conservative leader optimistic of common ...  Real\n",
       "2     Trump proposes U.S. tax overhaul, stirs concer...  Real\n",
       "3      Court Forces Ohio To Allow Millions Of Illega...  Fake\n",
       "4     Democrats say Trump agrees to work on immigrat...  Real\n",
       "...                                                 ...   ...\n",
       "9895   Wikileaks Admits To Screwing Up IMMENSELY Wit...  Fake\n",
       "9896  Trump consults Republican senators on Fed chie...  Real\n",
       "9897  Trump lawyers say judge lacks jurisdiction for...  Real\n",
       "9898   WATCH: Right-Wing Pastor Falsely Credits Trum...  Fake\n",
       "9899   Sean Spicer HILARIOUSLY Branded As Chickensh*...  Fake\n",
       "\n",
       "[9900 rows x 2 columns]"
      ]
     },
     "execution_count": 3,
     "metadata": {},
     "output_type": "execute_result"
    }
   ],
   "source": [
    "df"
   ]
  },
  {
   "cell_type": "code",
   "execution_count": 4,
   "id": "03641645-2f19-4ccc-a8e6-ad0d420c7c0b",
   "metadata": {},
   "outputs": [
    {
     "data": {
      "text/plain": [
       "Text     0\n",
       "label    0\n",
       "dtype: int64"
      ]
     },
     "execution_count": 4,
     "metadata": {},
     "output_type": "execute_result"
    }
   ],
   "source": [
    "df.isnull().sum()"
   ]
  },
  {
   "cell_type": "code",
   "execution_count": 5,
   "id": "0cb5d355-a67b-472f-8a67-7b535e5e5418",
   "metadata": {},
   "outputs": [],
   "source": [
    "df['numeric_label'] = df['label'].apply(lambda x :1 if x == 'Fake' else 0)"
   ]
  },
  {
   "cell_type": "code",
   "execution_count": 6,
   "id": "52f7bf47-50ff-4110-92b7-83b8c4456f4d",
   "metadata": {},
   "outputs": [
    {
     "data": {
      "text/html": [
       "<div>\n",
       "<style scoped>\n",
       "    .dataframe tbody tr th:only-of-type {\n",
       "        vertical-align: middle;\n",
       "    }\n",
       "\n",
       "    .dataframe tbody tr th {\n",
       "        vertical-align: top;\n",
       "    }\n",
       "\n",
       "    .dataframe thead th {\n",
       "        text-align: right;\n",
       "    }\n",
       "</style>\n",
       "<table border=\"1\" class=\"dataframe\">\n",
       "  <thead>\n",
       "    <tr style=\"text-align: right;\">\n",
       "      <th></th>\n",
       "      <th>Text</th>\n",
       "      <th>label</th>\n",
       "      <th>numeric_label</th>\n",
       "    </tr>\n",
       "  </thead>\n",
       "  <tbody>\n",
       "    <tr>\n",
       "      <th>0</th>\n",
       "      <td>Top Trump Surrogate BRUTALLY Stabs Him In The...</td>\n",
       "      <td>Fake</td>\n",
       "      <td>1</td>\n",
       "    </tr>\n",
       "    <tr>\n",
       "      <th>1</th>\n",
       "      <td>U.S. conservative leader optimistic of common ...</td>\n",
       "      <td>Real</td>\n",
       "      <td>0</td>\n",
       "    </tr>\n",
       "    <tr>\n",
       "      <th>2</th>\n",
       "      <td>Trump proposes U.S. tax overhaul, stirs concer...</td>\n",
       "      <td>Real</td>\n",
       "      <td>0</td>\n",
       "    </tr>\n",
       "    <tr>\n",
       "      <th>3</th>\n",
       "      <td>Court Forces Ohio To Allow Millions Of Illega...</td>\n",
       "      <td>Fake</td>\n",
       "      <td>1</td>\n",
       "    </tr>\n",
       "    <tr>\n",
       "      <th>4</th>\n",
       "      <td>Democrats say Trump agrees to work on immigrat...</td>\n",
       "      <td>Real</td>\n",
       "      <td>0</td>\n",
       "    </tr>\n",
       "    <tr>\n",
       "      <th>...</th>\n",
       "      <td>...</td>\n",
       "      <td>...</td>\n",
       "      <td>...</td>\n",
       "    </tr>\n",
       "    <tr>\n",
       "      <th>9895</th>\n",
       "      <td>Wikileaks Admits To Screwing Up IMMENSELY Wit...</td>\n",
       "      <td>Fake</td>\n",
       "      <td>1</td>\n",
       "    </tr>\n",
       "    <tr>\n",
       "      <th>9896</th>\n",
       "      <td>Trump consults Republican senators on Fed chie...</td>\n",
       "      <td>Real</td>\n",
       "      <td>0</td>\n",
       "    </tr>\n",
       "    <tr>\n",
       "      <th>9897</th>\n",
       "      <td>Trump lawyers say judge lacks jurisdiction for...</td>\n",
       "      <td>Real</td>\n",
       "      <td>0</td>\n",
       "    </tr>\n",
       "    <tr>\n",
       "      <th>9898</th>\n",
       "      <td>WATCH: Right-Wing Pastor Falsely Credits Trum...</td>\n",
       "      <td>Fake</td>\n",
       "      <td>1</td>\n",
       "    </tr>\n",
       "    <tr>\n",
       "      <th>9899</th>\n",
       "      <td>Sean Spicer HILARIOUSLY Branded As Chickensh*...</td>\n",
       "      <td>Fake</td>\n",
       "      <td>1</td>\n",
       "    </tr>\n",
       "  </tbody>\n",
       "</table>\n",
       "<p>9900 rows × 3 columns</p>\n",
       "</div>"
      ],
      "text/plain": [
       "                                                   Text label  numeric_label\n",
       "0      Top Trump Surrogate BRUTALLY Stabs Him In The...  Fake              1\n",
       "1     U.S. conservative leader optimistic of common ...  Real              0\n",
       "2     Trump proposes U.S. tax overhaul, stirs concer...  Real              0\n",
       "3      Court Forces Ohio To Allow Millions Of Illega...  Fake              1\n",
       "4     Democrats say Trump agrees to work on immigrat...  Real              0\n",
       "...                                                 ...   ...            ...\n",
       "9895   Wikileaks Admits To Screwing Up IMMENSELY Wit...  Fake              1\n",
       "9896  Trump consults Republican senators on Fed chie...  Real              0\n",
       "9897  Trump lawyers say judge lacks jurisdiction for...  Real              0\n",
       "9898   WATCH: Right-Wing Pastor Falsely Credits Trum...  Fake              1\n",
       "9899   Sean Spicer HILARIOUSLY Branded As Chickensh*...  Fake              1\n",
       "\n",
       "[9900 rows x 3 columns]"
      ]
     },
     "execution_count": 6,
     "metadata": {},
     "output_type": "execute_result"
    }
   ],
   "source": [
    "df"
   ]
  },
  {
   "cell_type": "code",
   "execution_count": 7,
   "id": "09bcd996-593f-4287-83c5-32787b04f42c",
   "metadata": {},
   "outputs": [
    {
     "data": {
      "text/plain": [
       "' Top Trump Surrogate BRUTALLY Stabs Him In The Back: ‘He’s Pathetic’ (VIDEO) It s looking as though Republican presidential candidate Donald Trump is losing support even from within his own ranks. You know things are getting bad when even your top surrogates start turning against you, which is exactly what just happened on Fox News when Newt Gingrich called Trump  pathetic. Gingrich knows that Trump needs to keep his focus on Hillary Clinton if he even remotely wants to have a chance at defeating her. However, Trump has hurt feelings because many Republicans don t support his sexual assault against women have turned against him, including House Speaker Paul Ryan (R-WI). So, that has made Trump lash out as his own party.Gingrich said on Fox News: Look, first of all, let me just say about Trump, who I admire and I ve tried to help as much as I can. There s a big Trump and a little Trump. The little Trump is frankly pathetic. I mean, he s mad over not getting a phone call? Trump s referring to the fact that Paul Ryan didn t call to congratulate him after the debate. Probably because he didn t win despite what Trump s ego tells him.Gingrich also added: Donald Trump has one opponent. Her name is Hillary Clinton. Her name is not Paul Ryan. It s not anybody else. Trump doesn t seem to realize that the person he should be mad at is himself because he truly is his own worst enemy. This will ultimately lead to his defeat and he will have no one to blame but himself.Watch here via Politico:Featured Photo by Joe Raedle/Getty Images'"
      ]
     },
     "execution_count": 7,
     "metadata": {},
     "output_type": "execute_result"
    }
   ],
   "source": [
    "df['Text'][0]"
   ]
  },
  {
   "cell_type": "code",
   "execution_count": 8,
   "id": "d5284450-0afe-49c4-8391-592884d26bb0",
   "metadata": {},
   "outputs": [
    {
     "data": {
      "text/plain": [
       "label\n",
       "Fake    5000\n",
       "Real    4900\n",
       "Name: count, dtype: int64"
      ]
     },
     "execution_count": 8,
     "metadata": {},
     "output_type": "execute_result"
    }
   ],
   "source": [
    "df['label'].value_counts()"
   ]
  },
  {
   "cell_type": "code",
   "execution_count": 9,
   "id": "06a71fcc-4a7c-4e1a-9f51-471a0c4a87a8",
   "metadata": {},
   "outputs": [],
   "source": [
    "nlp = spacy.load('en_core_web_lg')"
   ]
  },
  {
   "cell_type": "code",
   "execution_count": 10,
   "id": "40d267a8-dcf0-4852-826e-d6ea3ebd8964",
   "metadata": {},
   "outputs": [],
   "source": [
    "def preprocessing(text):\n",
    "    doc = nlp(text)\n",
    "    filtered_token = [token.text for token in doc if not token.is_stop and not token.is_punct]\n",
    "    join_text = ' '.join(filtered_token).strip()\n",
    "    lower_text = join_text.lower()\n",
    "    return re.sub(r'[^A-Za-z]+',' ',lower_text)"
   ]
  },
  {
   "cell_type": "code",
   "execution_count": 11,
   "id": "5c24a7d6-566e-4f63-a5f4-61cf5d342854",
   "metadata": {},
   "outputs": [],
   "source": [
    "text = preprocessing(' Top Trump Surrogate BRUTALLY Stabs Him In The Back: ‘He’s Pathetic’ (VIDEO) It s looking as though Republican presidential candidate 50 Donald Trump is losing support even from within his own ranks. You know things are getting bad when even your top surrogates start turning against you, which is exactly what just happened on Fox News when Newt Gingrich called Trump  pathetic. Gingrich knows that Trump needs to keep his focus on Hillary Clinton if he even remotely wants to have a chance at defeating her. However, Trump has hurt feelings because many Republicans don t support his sexual assault against women have turned against him, including House Speaker Paul Ryan (R-WI). So, that has made Trump lash out as his own party.Gingrich said on Fox News: Look, first of all, let me just say about Trump, who I admire and I ve tried to help as much as I can. There s a big Trump and a little Trump. The little Trump is frankly pathetic. I mean, he s mad over not getting a phone call? Trump s referring to the fact that Paul Ryan didn t call to congratulate him after the debate. Probably because he didn t win despite what Trump s ego tells him.Gingrich also added: Donald Trump has one opponent. Her name is Hillary Clinton. Her name is not Paul Ryan. It s not anybody else. Trump doesn t seem to realize that the person he should be mad at is himself because he truly is his own worst enemy. This will ultimately lead to his defeat and he will have no one to blame but himself.Watch here via Politico:Featured Photo by Joe Raedle/Getty Images')"
   ]
  },
  {
   "cell_type": "code",
   "execution_count": 12,
   "id": "fdc4c83e-2c5a-4bc8-ad68-54658c630909",
   "metadata": {},
   "outputs": [
    {
     "data": {
      "text/plain": [
       "'trump surrogate brutally stabs pathetic video s looking republican presidential candidate donald trump losing support ranks know things getting bad surrogates start turning exactly happened fox news newt gingrich called trump pathetic gingrich knows trump needs focus hillary clinton remotely wants chance defeating trump hurt feelings republicans don t support sexual assault women turned including house speaker paul ryan r wi trump lash party gingrich said fox news look let trump admire ve tried help s big trump little trump little trump frankly pathetic mean s mad getting phone trump s referring fact paul ryan didn t congratulate debate probably didn t win despite trump s ego tells gingrich added donald trump opponent hillary clinton paul ryan s anybody trump doesn t realize person mad truly worst enemy ultimately lead defeat blame watch politico featured photo joe raedle getty images'"
      ]
     },
     "execution_count": 12,
     "metadata": {},
     "output_type": "execute_result"
    }
   ],
   "source": [
    "text"
   ]
  },
  {
   "cell_type": "code",
   "execution_count": 13,
   "id": "04cefd0b-b9e2-45d8-9a1d-d76fa1040758",
   "metadata": {},
   "outputs": [],
   "source": [
    "df['updated_news_text'] = df['Text'].apply(preprocessing)"
   ]
  },
  {
   "cell_type": "code",
   "execution_count": 15,
   "id": "a95cf307-0055-4561-898f-7dfa5e5c8027",
   "metadata": {},
   "outputs": [
    {
     "data": {
      "text/html": [
       "<div>\n",
       "<style scoped>\n",
       "    .dataframe tbody tr th:only-of-type {\n",
       "        vertical-align: middle;\n",
       "    }\n",
       "\n",
       "    .dataframe tbody tr th {\n",
       "        vertical-align: top;\n",
       "    }\n",
       "\n",
       "    .dataframe thead th {\n",
       "        text-align: right;\n",
       "    }\n",
       "</style>\n",
       "<table border=\"1\" class=\"dataframe\">\n",
       "  <thead>\n",
       "    <tr style=\"text-align: right;\">\n",
       "      <th></th>\n",
       "      <th>Text</th>\n",
       "      <th>label</th>\n",
       "      <th>numeric_label</th>\n",
       "      <th>updated_news_text</th>\n",
       "    </tr>\n",
       "  </thead>\n",
       "  <tbody>\n",
       "    <tr>\n",
       "      <th>0</th>\n",
       "      <td>Top Trump Surrogate BRUTALLY Stabs Him In The...</td>\n",
       "      <td>Fake</td>\n",
       "      <td>1</td>\n",
       "      <td>trump surrogate brutally stabs pathetic video ...</td>\n",
       "    </tr>\n",
       "    <tr>\n",
       "      <th>1</th>\n",
       "      <td>U.S. conservative leader optimistic of common ...</td>\n",
       "      <td>Real</td>\n",
       "      <td>0</td>\n",
       "      <td>u s conservative leader optimistic common grou...</td>\n",
       "    </tr>\n",
       "    <tr>\n",
       "      <th>2</th>\n",
       "      <td>Trump proposes U.S. tax overhaul, stirs concer...</td>\n",
       "      <td>Real</td>\n",
       "      <td>0</td>\n",
       "      <td>trump proposes u s tax overhaul stirs concerns...</td>\n",
       "    </tr>\n",
       "    <tr>\n",
       "      <th>3</th>\n",
       "      <td>Court Forces Ohio To Allow Millions Of Illega...</td>\n",
       "      <td>Fake</td>\n",
       "      <td>1</td>\n",
       "      <td>court forces ohio allow millions illegally pur...</td>\n",
       "    </tr>\n",
       "    <tr>\n",
       "      <th>4</th>\n",
       "      <td>Democrats say Trump agrees to work on immigrat...</td>\n",
       "      <td>Real</td>\n",
       "      <td>0</td>\n",
       "      <td>democrats trump agrees work immigration bill w...</td>\n",
       "    </tr>\n",
       "    <tr>\n",
       "      <th>...</th>\n",
       "      <td>...</td>\n",
       "      <td>...</td>\n",
       "      <td>...</td>\n",
       "      <td>...</td>\n",
       "    </tr>\n",
       "    <tr>\n",
       "      <th>9895</th>\n",
       "      <td>Wikileaks Admits To Screwing Up IMMENSELY Wit...</td>\n",
       "      <td>Fake</td>\n",
       "      <td>1</td>\n",
       "      <td>wikileaks admits screwing immensely twitter po...</td>\n",
       "    </tr>\n",
       "    <tr>\n",
       "      <th>9896</th>\n",
       "      <td>Trump consults Republican senators on Fed chie...</td>\n",
       "      <td>Real</td>\n",
       "      <td>0</td>\n",
       "      <td>trump consults republican senators fed chief c...</td>\n",
       "    </tr>\n",
       "    <tr>\n",
       "      <th>9897</th>\n",
       "      <td>Trump lawyers say judge lacks jurisdiction for...</td>\n",
       "      <td>Real</td>\n",
       "      <td>0</td>\n",
       "      <td>trump lawyers judge lacks jurisdiction defamat...</td>\n",
       "    </tr>\n",
       "    <tr>\n",
       "      <th>9898</th>\n",
       "      <td>WATCH: Right-Wing Pastor Falsely Credits Trum...</td>\n",
       "      <td>Fake</td>\n",
       "      <td>1</td>\n",
       "      <td>watch right wing pastor falsely credits trump ...</td>\n",
       "    </tr>\n",
       "    <tr>\n",
       "      <th>9899</th>\n",
       "      <td>Sean Spicer HILARIOUSLY Branded As Chickensh*...</td>\n",
       "      <td>Fake</td>\n",
       "      <td>1</td>\n",
       "      <td>sean spicer hilariously branded chickensh t bo...</td>\n",
       "    </tr>\n",
       "  </tbody>\n",
       "</table>\n",
       "<p>9900 rows × 4 columns</p>\n",
       "</div>"
      ],
      "text/plain": [
       "                                                   Text label  numeric_label  \\\n",
       "0      Top Trump Surrogate BRUTALLY Stabs Him In The...  Fake              1   \n",
       "1     U.S. conservative leader optimistic of common ...  Real              0   \n",
       "2     Trump proposes U.S. tax overhaul, stirs concer...  Real              0   \n",
       "3      Court Forces Ohio To Allow Millions Of Illega...  Fake              1   \n",
       "4     Democrats say Trump agrees to work on immigrat...  Real              0   \n",
       "...                                                 ...   ...            ...   \n",
       "9895   Wikileaks Admits To Screwing Up IMMENSELY Wit...  Fake              1   \n",
       "9896  Trump consults Republican senators on Fed chie...  Real              0   \n",
       "9897  Trump lawyers say judge lacks jurisdiction for...  Real              0   \n",
       "9898   WATCH: Right-Wing Pastor Falsely Credits Trum...  Fake              1   \n",
       "9899   Sean Spicer HILARIOUSLY Branded As Chickensh*...  Fake              1   \n",
       "\n",
       "                                      updated_news_text  \n",
       "0     trump surrogate brutally stabs pathetic video ...  \n",
       "1     u s conservative leader optimistic common grou...  \n",
       "2     trump proposes u s tax overhaul stirs concerns...  \n",
       "3     court forces ohio allow millions illegally pur...  \n",
       "4     democrats trump agrees work immigration bill w...  \n",
       "...                                                 ...  \n",
       "9895  wikileaks admits screwing immensely twitter po...  \n",
       "9896  trump consults republican senators fed chief c...  \n",
       "9897  trump lawyers judge lacks jurisdiction defamat...  \n",
       "9898  watch right wing pastor falsely credits trump ...  \n",
       "9899  sean spicer hilariously branded chickensh t bo...  \n",
       "\n",
       "[9900 rows x 4 columns]"
      ]
     },
     "execution_count": 15,
     "metadata": {},
     "output_type": "execute_result"
    }
   ],
   "source": [
    "df"
   ]
  },
  {
   "cell_type": "code",
   "execution_count": 16,
   "id": "2e1d6f87-8a5c-42c7-b5e2-497c5900ab04",
   "metadata": {},
   "outputs": [
    {
     "data": {
      "text/plain": [
       "'trump surrogate brutally stabs pathetic video s looking republican presidential candidate donald trump losing support ranks know things getting bad surrogates start turning exactly happened fox news newt gingrich called trump pathetic gingrich knows trump needs focus hillary clinton remotely wants chance defeating trump hurt feelings republicans don t support sexual assault women turned including house speaker paul ryan r wi trump lash party gingrich said fox news look let trump admire ve tried help s big trump little trump little trump frankly pathetic mean s mad getting phone trump s referring fact paul ryan didn t congratulate debate probably didn t win despite trump s ego tells gingrich added donald trump opponent hillary clinton paul ryan s anybody trump doesn t realize person mad truly worst enemy ultimately lead defeat blame watch politico featured photo joe raedle getty images'"
      ]
     },
     "execution_count": 16,
     "metadata": {},
     "output_type": "execute_result"
    }
   ],
   "source": [
    "df['updated_news_text'][0]"
   ]
  },
  {
   "cell_type": "code",
   "execution_count": 17,
   "id": "e5d787f2-304c-45ce-b1a3-44c1695be190",
   "metadata": {},
   "outputs": [],
   "source": [
    "vectorizer = TfidfVectorizer(max_features=5000)"
   ]
  },
  {
   "cell_type": "code",
   "execution_count": 18,
   "id": "f2660699-b233-4f31-bc90-09d94c09df86",
   "metadata": {},
   "outputs": [],
   "source": [
    "vector = vectorizer.fit_transform(df['updated_news_text'])"
   ]
  },
  {
   "cell_type": "code",
   "execution_count": 19,
   "id": "a83a9735-36be-4dfb-bcb8-e8b6a76fcedd",
   "metadata": {},
   "outputs": [],
   "source": [
    "df['vector'] =   pd.Series(vector.toarray().tolist())"
   ]
  },
  {
   "cell_type": "code",
   "execution_count": 20,
   "id": "51922f03-76de-4737-8bfd-1b1f79466d3d",
   "metadata": {},
   "outputs": [
    {
     "data": {
      "text/plain": [
       "Index(['Text', 'label', 'numeric_label', 'updated_news_text', 'vector'], dtype='object')"
      ]
     },
     "execution_count": 20,
     "metadata": {},
     "output_type": "execute_result"
    }
   ],
   "source": [
    "df.columns"
   ]
  },
  {
   "cell_type": "code",
   "execution_count": 21,
   "id": "a66e002b-dd43-4532-8954-6c687fc409a7",
   "metadata": {},
   "outputs": [
    {
     "data": {
      "text/html": [
       "<div>\n",
       "<style scoped>\n",
       "    .dataframe tbody tr th:only-of-type {\n",
       "        vertical-align: middle;\n",
       "    }\n",
       "\n",
       "    .dataframe tbody tr th {\n",
       "        vertical-align: top;\n",
       "    }\n",
       "\n",
       "    .dataframe thead th {\n",
       "        text-align: right;\n",
       "    }\n",
       "</style>\n",
       "<table border=\"1\" class=\"dataframe\">\n",
       "  <thead>\n",
       "    <tr style=\"text-align: right;\">\n",
       "      <th></th>\n",
       "      <th>Text</th>\n",
       "      <th>label</th>\n",
       "      <th>numeric_label</th>\n",
       "      <th>updated_news_text</th>\n",
       "      <th>vector</th>\n",
       "    </tr>\n",
       "  </thead>\n",
       "  <tbody>\n",
       "    <tr>\n",
       "      <th>0</th>\n",
       "      <td>Top Trump Surrogate BRUTALLY Stabs Him In The...</td>\n",
       "      <td>Fake</td>\n",
       "      <td>1</td>\n",
       "      <td>trump surrogate brutally stabs pathetic video ...</td>\n",
       "      <td>[0.0, 0.0, 0.0, 0.0, 0.0, 0.0, 0.0, 0.0, 0.0, ...</td>\n",
       "    </tr>\n",
       "    <tr>\n",
       "      <th>1</th>\n",
       "      <td>U.S. conservative leader optimistic of common ...</td>\n",
       "      <td>Real</td>\n",
       "      <td>0</td>\n",
       "      <td>u s conservative leader optimistic common grou...</td>\n",
       "      <td>[0.0, 0.0, 0.0, 0.0, 0.0, 0.0, 0.0897695320776...</td>\n",
       "    </tr>\n",
       "    <tr>\n",
       "      <th>2</th>\n",
       "      <td>Trump proposes U.S. tax overhaul, stirs concer...</td>\n",
       "      <td>Real</td>\n",
       "      <td>0</td>\n",
       "      <td>trump proposes u s tax overhaul stirs concerns...</td>\n",
       "      <td>[0.0, 0.0, 0.0, 0.0, 0.0, 0.0, 0.0, 0.0, 0.0, ...</td>\n",
       "    </tr>\n",
       "    <tr>\n",
       "      <th>3</th>\n",
       "      <td>Court Forces Ohio To Allow Millions Of Illega...</td>\n",
       "      <td>Fake</td>\n",
       "      <td>1</td>\n",
       "      <td>court forces ohio allow millions illegally pur...</td>\n",
       "      <td>[0.0, 0.0, 0.0, 0.0, 0.0, 0.0, 0.0, 0.0, 0.0, ...</td>\n",
       "    </tr>\n",
       "    <tr>\n",
       "      <th>4</th>\n",
       "      <td>Democrats say Trump agrees to work on immigrat...</td>\n",
       "      <td>Real</td>\n",
       "      <td>0</td>\n",
       "      <td>democrats trump agrees work immigration bill w...</td>\n",
       "      <td>[0.0, 0.0, 0.0, 0.0, 0.0, 0.0, 0.0328982604648...</td>\n",
       "    </tr>\n",
       "    <tr>\n",
       "      <th>...</th>\n",
       "      <td>...</td>\n",
       "      <td>...</td>\n",
       "      <td>...</td>\n",
       "      <td>...</td>\n",
       "      <td>...</td>\n",
       "    </tr>\n",
       "    <tr>\n",
       "      <th>9895</th>\n",
       "      <td>Wikileaks Admits To Screwing Up IMMENSELY Wit...</td>\n",
       "      <td>Fake</td>\n",
       "      <td>1</td>\n",
       "      <td>wikileaks admits screwing immensely twitter po...</td>\n",
       "      <td>[0.0, 0.0, 0.0, 0.0, 0.0, 0.0, 0.0, 0.0, 0.0, ...</td>\n",
       "    </tr>\n",
       "    <tr>\n",
       "      <th>9896</th>\n",
       "      <td>Trump consults Republican senators on Fed chie...</td>\n",
       "      <td>Real</td>\n",
       "      <td>0</td>\n",
       "      <td>trump consults republican senators fed chief c...</td>\n",
       "      <td>[0.0, 0.0, 0.0, 0.0, 0.0, 0.0, 0.0, 0.0, 0.0, ...</td>\n",
       "    </tr>\n",
       "    <tr>\n",
       "      <th>9897</th>\n",
       "      <td>Trump lawyers say judge lacks jurisdiction for...</td>\n",
       "      <td>Real</td>\n",
       "      <td>0</td>\n",
       "      <td>trump lawyers judge lacks jurisdiction defamat...</td>\n",
       "      <td>[0.0, 0.0, 0.0, 0.0, 0.0, 0.0, 0.0, 0.0, 0.0, ...</td>\n",
       "    </tr>\n",
       "    <tr>\n",
       "      <th>9898</th>\n",
       "      <td>WATCH: Right-Wing Pastor Falsely Credits Trum...</td>\n",
       "      <td>Fake</td>\n",
       "      <td>1</td>\n",
       "      <td>watch right wing pastor falsely credits trump ...</td>\n",
       "      <td>[0.0, 0.0, 0.0, 0.0, 0.0, 0.0, 0.0, 0.0, 0.0, ...</td>\n",
       "    </tr>\n",
       "    <tr>\n",
       "      <th>9899</th>\n",
       "      <td>Sean Spicer HILARIOUSLY Branded As Chickensh*...</td>\n",
       "      <td>Fake</td>\n",
       "      <td>1</td>\n",
       "      <td>sean spicer hilariously branded chickensh t bo...</td>\n",
       "      <td>[0.028934469882832443, 0.0, 0.0, 0.0, 0.0, 0.0...</td>\n",
       "    </tr>\n",
       "  </tbody>\n",
       "</table>\n",
       "<p>9900 rows × 5 columns</p>\n",
       "</div>"
      ],
      "text/plain": [
       "                                                   Text label  numeric_label  \\\n",
       "0      Top Trump Surrogate BRUTALLY Stabs Him In The...  Fake              1   \n",
       "1     U.S. conservative leader optimistic of common ...  Real              0   \n",
       "2     Trump proposes U.S. tax overhaul, stirs concer...  Real              0   \n",
       "3      Court Forces Ohio To Allow Millions Of Illega...  Fake              1   \n",
       "4     Democrats say Trump agrees to work on immigrat...  Real              0   \n",
       "...                                                 ...   ...            ...   \n",
       "9895   Wikileaks Admits To Screwing Up IMMENSELY Wit...  Fake              1   \n",
       "9896  Trump consults Republican senators on Fed chie...  Real              0   \n",
       "9897  Trump lawyers say judge lacks jurisdiction for...  Real              0   \n",
       "9898   WATCH: Right-Wing Pastor Falsely Credits Trum...  Fake              1   \n",
       "9899   Sean Spicer HILARIOUSLY Branded As Chickensh*...  Fake              1   \n",
       "\n",
       "                                      updated_news_text  \\\n",
       "0     trump surrogate brutally stabs pathetic video ...   \n",
       "1     u s conservative leader optimistic common grou...   \n",
       "2     trump proposes u s tax overhaul stirs concerns...   \n",
       "3     court forces ohio allow millions illegally pur...   \n",
       "4     democrats trump agrees work immigration bill w...   \n",
       "...                                                 ...   \n",
       "9895  wikileaks admits screwing immensely twitter po...   \n",
       "9896  trump consults republican senators fed chief c...   \n",
       "9897  trump lawyers judge lacks jurisdiction defamat...   \n",
       "9898  watch right wing pastor falsely credits trump ...   \n",
       "9899  sean spicer hilariously branded chickensh t bo...   \n",
       "\n",
       "                                                 vector  \n",
       "0     [0.0, 0.0, 0.0, 0.0, 0.0, 0.0, 0.0, 0.0, 0.0, ...  \n",
       "1     [0.0, 0.0, 0.0, 0.0, 0.0, 0.0, 0.0897695320776...  \n",
       "2     [0.0, 0.0, 0.0, 0.0, 0.0, 0.0, 0.0, 0.0, 0.0, ...  \n",
       "3     [0.0, 0.0, 0.0, 0.0, 0.0, 0.0, 0.0, 0.0, 0.0, ...  \n",
       "4     [0.0, 0.0, 0.0, 0.0, 0.0, 0.0, 0.0328982604648...  \n",
       "...                                                 ...  \n",
       "9895  [0.0, 0.0, 0.0, 0.0, 0.0, 0.0, 0.0, 0.0, 0.0, ...  \n",
       "9896  [0.0, 0.0, 0.0, 0.0, 0.0, 0.0, 0.0, 0.0, 0.0, ...  \n",
       "9897  [0.0, 0.0, 0.0, 0.0, 0.0, 0.0, 0.0, 0.0, 0.0, ...  \n",
       "9898  [0.0, 0.0, 0.0, 0.0, 0.0, 0.0, 0.0, 0.0, 0.0, ...  \n",
       "9899  [0.028934469882832443, 0.0, 0.0, 0.0, 0.0, 0.0...  \n",
       "\n",
       "[9900 rows x 5 columns]"
      ]
     },
     "execution_count": 21,
     "metadata": {},
     "output_type": "execute_result"
    }
   ],
   "source": [
    "df"
   ]
  },
  {
   "cell_type": "code",
   "execution_count": 23,
   "id": "b08e9b5c-12ed-4d39-9b62-413eb1d4751d",
   "metadata": {},
   "outputs": [
    {
     "data": {
      "text/plain": [
       "Index(['Text', 'label', 'numeric_label', 'updated_news_text', 'vector'], dtype='object')"
      ]
     },
     "execution_count": 23,
     "metadata": {},
     "output_type": "execute_result"
    }
   ],
   "source": [
    "df.columns"
   ]
  },
  {
   "cell_type": "code",
   "execution_count": 24,
   "id": "74b5f272-dd8a-48a6-a1e3-8dc758dfb11d",
   "metadata": {},
   "outputs": [],
   "source": [
    "x_train,x_test,y_train,y_test = train_test_split(df.vector,df.numeric_label,test_size=0.2,random_state=2022,\n",
    "                                                 stratify=df.numeric_label)"
   ]
  },
  {
   "cell_type": "code",
   "execution_count": 25,
   "id": "c68d4350-8c29-4985-8195-b235b4b901d4",
   "metadata": {},
   "outputs": [
    {
     "data": {
      "text/plain": [
       "((7920,), (7920,))"
      ]
     },
     "execution_count": 25,
     "metadata": {},
     "output_type": "execute_result"
    }
   ],
   "source": [
    "x_train.shape,y_train.shape"
   ]
  },
  {
   "cell_type": "code",
   "execution_count": 26,
   "id": "b912b2aa-f8ad-43f2-af57-aecebe7b6648",
   "metadata": {},
   "outputs": [
    {
     "data": {
      "text/plain": [
       "4073    [0.0, 0.0, 0.0, 0.0, 0.0, 0.0, 0.0, 0.0, 0.0, ...\n",
       "202     [0.0, 0.0, 0.0, 0.0, 0.0, 0.0, 0.0, 0.0, 0.0, ...\n",
       "3748    [0.0, 0.0, 0.0, 0.0, 0.0, 0.0, 0.0, 0.0, 0.0, ...\n",
       "3876    [0.0, 0.0, 0.0, 0.0, 0.0, 0.0, 0.0, 0.0, 0.0, ...\n",
       "1732    [0.0, 0.0, 0.0, 0.0, 0.0, 0.0, 0.0, 0.0, 0.0, ...\n",
       "                              ...                        \n",
       "2705    [0.0, 0.0, 0.0, 0.0, 0.0, 0.0, 0.0, 0.0, 0.0, ...\n",
       "967     [0.0, 0.0, 0.0, 0.0, 0.0, 0.0, 0.0, 0.0, 0.0, ...\n",
       "6476    [0.0, 0.0, 0.0, 0.0, 0.0, 0.0, 0.0, 0.0, 0.0, ...\n",
       "1357    [0.0, 0.0, 0.0, 0.0, 0.0, 0.0, 0.1195687885866...\n",
       "7087    [0.0, 0.0, 0.0, 0.0, 0.0, 0.0, 0.0, 0.0, 0.0, ...\n",
       "Name: vector, Length: 7920, dtype: object"
      ]
     },
     "execution_count": 26,
     "metadata": {},
     "output_type": "execute_result"
    }
   ],
   "source": [
    "x_train"
   ]
  },
  {
   "cell_type": "code",
   "execution_count": 27,
   "id": "73d39ecf-1f84-4a83-bbaa-d5c4edcbf843",
   "metadata": {},
   "outputs": [
    {
     "data": {
      "text/plain": [
       "9223    [0.0, 0.0, 0.0, 0.0, 0.0, 0.0, 0.0, 0.0, 0.0, ...\n",
       "5499    [0.0, 0.0, 0.0, 0.0, 0.0, 0.04214768347196643,...\n",
       "5540    [0.0, 0.0, 0.0, 0.0, 0.0, 0.0, 0.0, 0.0, 0.0, ...\n",
       "7586    [0.0, 0.0, 0.0, 0.0, 0.0, 0.0, 0.0463087655883...\n",
       "7410    [0.0, 0.0, 0.0, 0.0, 0.0, 0.0, 0.0, 0.0, 0.0, ...\n",
       "                              ...                        \n",
       "9282    [0.0, 0.0, 0.0, 0.0, 0.0, 0.0, 0.0, 0.0, 0.0, ...\n",
       "1200    [0.0, 0.0, 0.0, 0.0, 0.0, 0.0, 0.0, 0.0, 0.0, ...\n",
       "2942    [0.0, 0.0, 0.0, 0.0, 0.0, 0.0, 0.0417396215311...\n",
       "3791    [0.0, 0.0, 0.0, 0.0, 0.0, 0.0, 0.0, 0.0, 0.0, ...\n",
       "6087    [0.0, 0.0, 0.0, 0.0, 0.0, 0.0, 0.0, 0.0, 0.0, ...\n",
       "Name: vector, Length: 1980, dtype: object"
      ]
     },
     "execution_count": 27,
     "metadata": {},
     "output_type": "execute_result"
    }
   ],
   "source": [
    "x_test"
   ]
  },
  {
   "cell_type": "code",
   "execution_count": 28,
   "id": "a711a89c-9dc7-4d3c-9bed-f1110bc11d22",
   "metadata": {},
   "outputs": [
    {
     "data": {
      "text/plain": [
       "(4073    0\n",
       " 202     0\n",
       " 3748    1\n",
       " 3876    1\n",
       " 1732    0\n",
       "        ..\n",
       " 2705    0\n",
       " 967     1\n",
       " 6476    1\n",
       " 1357    1\n",
       " 7087    1\n",
       " Name: numeric_label, Length: 7920, dtype: int64,\n",
       " 9223    0\n",
       " 5499    1\n",
       " 5540    1\n",
       " 7586    0\n",
       " 7410    0\n",
       "        ..\n",
       " 9282    1\n",
       " 1200    1\n",
       " 2942    1\n",
       " 3791    1\n",
       " 6087    0\n",
       " Name: numeric_label, Length: 1980, dtype: int64)"
      ]
     },
     "execution_count": 28,
     "metadata": {},
     "output_type": "execute_result"
    }
   ],
   "source": [
    "y_train,y_test"
   ]
  },
  {
   "cell_type": "code",
   "execution_count": 29,
   "id": "0915de0d-b232-4024-9d35-2c73186e9d0a",
   "metadata": {},
   "outputs": [
    {
     "data": {
      "text/plain": [
       "1"
      ]
     },
     "execution_count": 29,
     "metadata": {},
     "output_type": "execute_result"
    }
   ],
   "source": [
    "x_train.ndim"
   ]
  },
  {
   "cell_type": "code",
   "execution_count": 30,
   "id": "8f215884-91eb-4239-a489-d254751562c1",
   "metadata": {},
   "outputs": [],
   "source": [
    "x_train_2d = np.stack(x_train)"
   ]
  },
  {
   "cell_type": "code",
   "execution_count": 31,
   "id": "cbf1003b-aaeb-42ee-9014-2de4b02d5945",
   "metadata": {},
   "outputs": [],
   "source": [
    "x_test_2d = np.stack(x_test)"
   ]
  },
  {
   "cell_type": "code",
   "execution_count": 32,
   "id": "d391784a-cf1a-4c8f-a1ae-d27d9b9f0ad8",
   "metadata": {},
   "outputs": [
    {
     "data": {
      "text/plain": [
       "2"
      ]
     },
     "execution_count": 32,
     "metadata": {},
     "output_type": "execute_result"
    }
   ],
   "source": [
    "x_train_2d.ndim"
   ]
  },
  {
   "cell_type": "code",
   "execution_count": 33,
   "id": "93b758cb-10df-405f-b185-c1cc537c9066",
   "metadata": {},
   "outputs": [
    {
     "data": {
      "text/plain": [
       "2"
      ]
     },
     "execution_count": 33,
     "metadata": {},
     "output_type": "execute_result"
    }
   ],
   "source": [
    "x_test_2d.ndim"
   ]
  },
  {
   "cell_type": "code",
   "execution_count": 34,
   "id": "b89545b7-0754-4a1b-8478-03e9a66e14e8",
   "metadata": {},
   "outputs": [
    {
     "data": {
      "text/plain": [
       "array([[0., 0., 0., ..., 0., 0., 0.],\n",
       "       [0., 0., 0., ..., 0., 0., 0.],\n",
       "       [0., 0., 0., ..., 0., 0., 0.],\n",
       "       ...,\n",
       "       [0., 0., 0., ..., 0., 0., 0.],\n",
       "       [0., 0., 0., ..., 0., 0., 0.],\n",
       "       [0., 0., 0., ..., 0., 0., 0.]])"
      ]
     },
     "execution_count": 34,
     "metadata": {},
     "output_type": "execute_result"
    }
   ],
   "source": [
    "x_train_2d"
   ]
  },
  {
   "cell_type": "code",
   "execution_count": 35,
   "id": "43fc03d5-340d-49ef-8dbc-5216d630faa1",
   "metadata": {},
   "outputs": [
    {
     "data": {
      "text/html": [
       "<style>#sk-container-id-1 {color: black;}#sk-container-id-1 pre{padding: 0;}#sk-container-id-1 div.sk-toggleable {background-color: white;}#sk-container-id-1 label.sk-toggleable__label {cursor: pointer;display: block;width: 100%;margin-bottom: 0;padding: 0.3em;box-sizing: border-box;text-align: center;}#sk-container-id-1 label.sk-toggleable__label-arrow:before {content: \"▸\";float: left;margin-right: 0.25em;color: #696969;}#sk-container-id-1 label.sk-toggleable__label-arrow:hover:before {color: black;}#sk-container-id-1 div.sk-estimator:hover label.sk-toggleable__label-arrow:before {color: black;}#sk-container-id-1 div.sk-toggleable__content {max-height: 0;max-width: 0;overflow: hidden;text-align: left;background-color: #f0f8ff;}#sk-container-id-1 div.sk-toggleable__content pre {margin: 0.2em;color: black;border-radius: 0.25em;background-color: #f0f8ff;}#sk-container-id-1 input.sk-toggleable__control:checked~div.sk-toggleable__content {max-height: 200px;max-width: 100%;overflow: auto;}#sk-container-id-1 input.sk-toggleable__control:checked~label.sk-toggleable__label-arrow:before {content: \"▾\";}#sk-container-id-1 div.sk-estimator input.sk-toggleable__control:checked~label.sk-toggleable__label {background-color: #d4ebff;}#sk-container-id-1 div.sk-label input.sk-toggleable__control:checked~label.sk-toggleable__label {background-color: #d4ebff;}#sk-container-id-1 input.sk-hidden--visually {border: 0;clip: rect(1px 1px 1px 1px);clip: rect(1px, 1px, 1px, 1px);height: 1px;margin: -1px;overflow: hidden;padding: 0;position: absolute;width: 1px;}#sk-container-id-1 div.sk-estimator {font-family: monospace;background-color: #f0f8ff;border: 1px dotted black;border-radius: 0.25em;box-sizing: border-box;margin-bottom: 0.5em;}#sk-container-id-1 div.sk-estimator:hover {background-color: #d4ebff;}#sk-container-id-1 div.sk-parallel-item::after {content: \"\";width: 100%;border-bottom: 1px solid gray;flex-grow: 1;}#sk-container-id-1 div.sk-label:hover label.sk-toggleable__label {background-color: #d4ebff;}#sk-container-id-1 div.sk-serial::before {content: \"\";position: absolute;border-left: 1px solid gray;box-sizing: border-box;top: 0;bottom: 0;left: 50%;z-index: 0;}#sk-container-id-1 div.sk-serial {display: flex;flex-direction: column;align-items: center;background-color: white;padding-right: 0.2em;padding-left: 0.2em;position: relative;}#sk-container-id-1 div.sk-item {position: relative;z-index: 1;}#sk-container-id-1 div.sk-parallel {display: flex;align-items: stretch;justify-content: center;background-color: white;position: relative;}#sk-container-id-1 div.sk-item::before, #sk-container-id-1 div.sk-parallel-item::before {content: \"\";position: absolute;border-left: 1px solid gray;box-sizing: border-box;top: 0;bottom: 0;left: 50%;z-index: -1;}#sk-container-id-1 div.sk-parallel-item {display: flex;flex-direction: column;z-index: 1;position: relative;background-color: white;}#sk-container-id-1 div.sk-parallel-item:first-child::after {align-self: flex-end;width: 50%;}#sk-container-id-1 div.sk-parallel-item:last-child::after {align-self: flex-start;width: 50%;}#sk-container-id-1 div.sk-parallel-item:only-child::after {width: 0;}#sk-container-id-1 div.sk-dashed-wrapped {border: 1px dashed gray;margin: 0 0.4em 0.5em 0.4em;box-sizing: border-box;padding-bottom: 0.4em;background-color: white;}#sk-container-id-1 div.sk-label label {font-family: monospace;font-weight: bold;display: inline-block;line-height: 1.2em;}#sk-container-id-1 div.sk-label-container {text-align: center;}#sk-container-id-1 div.sk-container {/* jupyter's `normalize.less` sets `[hidden] { display: none; }` but bootstrap.min.css set `[hidden] { display: none !important; }` so we also need the `!important` here to be able to override the default hidden behavior on the sphinx rendered scikit-learn.org. See: https://github.com/scikit-learn/scikit-learn/issues/21755 */display: inline-block !important;position: relative;}#sk-container-id-1 div.sk-text-repr-fallback {display: none;}</style><div id=\"sk-container-id-1\" class=\"sk-top-container\"><div class=\"sk-text-repr-fallback\"><pre>GradientBoostingClassifier()</pre><b>In a Jupyter environment, please rerun this cell to show the HTML representation or trust the notebook. <br />On GitHub, the HTML representation is unable to render, please try loading this page with nbviewer.org.</b></div><div class=\"sk-container\" hidden><div class=\"sk-item\"><div class=\"sk-estimator sk-toggleable\"><input class=\"sk-toggleable__control sk-hidden--visually\" id=\"sk-estimator-id-1\" type=\"checkbox\" checked><label for=\"sk-estimator-id-1\" class=\"sk-toggleable__label sk-toggleable__label-arrow\">GradientBoostingClassifier</label><div class=\"sk-toggleable__content\"><pre>GradientBoostingClassifier()</pre></div></div></div></div></div>"
      ],
      "text/plain": [
       "GradientBoostingClassifier()"
      ]
     },
     "execution_count": 35,
     "metadata": {},
     "output_type": "execute_result"
    }
   ],
   "source": [
    "clf = GradientBoostingClassifier()\n",
    "clf.fit(x_train_2d,y_train)"
   ]
  },
  {
   "cell_type": "code",
   "execution_count": 36,
   "id": "56035ecf-a310-4a21-a033-df5e4f130f3f",
   "metadata": {},
   "outputs": [],
   "source": [
    "y_pred = clf.predict(x_test_2d)"
   ]
  },
  {
   "cell_type": "code",
   "execution_count": 37,
   "id": "89e948ac-5387-4fd1-9a11-96a50bde5883",
   "metadata": {},
   "outputs": [
    {
     "name": "stdout",
     "output_type": "stream",
     "text": [
      "              precision    recall  f1-score   support\n",
      "\n",
      "           0       1.00      1.00      1.00       980\n",
      "           1       1.00      1.00      1.00      1000\n",
      "\n",
      "    accuracy                           1.00      1980\n",
      "   macro avg       1.00      1.00      1.00      1980\n",
      "weighted avg       1.00      1.00      1.00      1980\n",
      "\n"
     ]
    }
   ],
   "source": [
    "print(classification_report(y_test,y_pred))"
   ]
  },
  {
   "cell_type": "code",
   "execution_count": 38,
   "id": "b6d71b51-3708-4fe0-b98a-1f34713e42fc",
   "metadata": {},
   "outputs": [],
   "source": [
    "test_news = [\n",
    "    \"Michigan governor denies misleading U.S. House on Flint water (Reuters) - Michigan Governor Rick Snyder denied Thursday that he had misled a U.S. House of Representatives committee last year over testimony on Flintâ€™s water crisis after lawmakers asked if his testimony had been contradicted by a witness in a court hearing. The House Oversight and Government Reform Committee wrote Snyder earlier Thursday asking him about published reports that one of his aides, Harvey Hollins, testified in a court hearing last week in Michigan that he had notified Snyder of an outbreak of Legionnairesâ€™ disease linked to the Flint water crisis in December 2015, rather than 2016 as Snyder had testified. â€œMy testimony was truthful and I stand by it,â€ Snyder told the committee in a letter, adding that his office has provided tens of thousands of pages of records to the committee and would continue to cooperate fully.  Last week, prosecutors in Michigan said Dr. Eden Wells, the stateâ€™s chief medical executive who already faced lesser charges, would become the sixth current or former official to face involuntary manslaughter charges in connection with the crisis. The charges stem from more than 80 cases of Legionnairesâ€™ disease and at least 12 deaths that were believed to be linked to the water in Flint after the city switched its source from Lake Huron to the Flint River in April 2014. Wells was among six current and former Michigan and Flint officials charged in June. The other five, including Michigan Health and Human Services Director Nick Lyon, were charged at the time with involuntary manslaughter\",\n",
    "    \" WATCH: Fox News Host Loses Her Sh*t, Says Investigating Russia For Hacking Our Election Is Unpatriotic This woman is insane.In an incredibly disrespectful rant against President Obama and anyone else who supports investigating Russian interference in our election, Fox News host Jeanine Pirro said that anybody who is against Donald Trump is anti-American. Look, it s time to take sides,  she began.\",\n",
    "    \" Sarah Palin Celebrates After White Man Who Pulled Gun On Black Protesters Goes Unpunished (VIDEO) Sarah Palin, one of the nigh-innumerable  deplorables  in Donald Trump s  basket,  almost outdid herself in terms of horribleness on Friday.\"\n",
    "]"
   ]
  },
  {
   "cell_type": "code",
   "execution_count": 39,
   "id": "5e7e20d8-27ee-480f-b3fd-c38628f0a855",
   "metadata": {},
   "outputs": [],
   "source": [
    "test_news_vecorts = vectorizer.transform(test_news)"
   ]
  },
  {
   "cell_type": "code",
   "execution_count": 48,
   "id": "8879a8ef-e252-4530-a826-0fd260a628bb",
   "metadata": {},
   "outputs": [],
   "source": [
    "cleaning_area = [preprocessing(n) for n in test_news]"
   ]
  },
  {
   "cell_type": "code",
   "execution_count": 51,
   "id": "26d4d97e-8aad-45b1-b3cc-d220de80beb9",
   "metadata": {},
   "outputs": [],
   "source": [
    "convert_into_vector  = vectorizer.transform(cleaning_area)"
   ]
  },
  {
   "cell_type": "code",
   "execution_count": 52,
   "id": "e285e5b4-1980-4da6-a64c-dfffb598d202",
   "metadata": {},
   "outputs": [
    {
     "data": {
      "text/plain": [
       "array([0, 1, 1], dtype=int64)"
      ]
     },
     "execution_count": 52,
     "metadata": {},
     "output_type": "execute_result"
    }
   ],
   "source": [
    "clf.predict(convert_into_vector)"
   ]
  },
  {
   "cell_type": "code",
   "execution_count": 53,
   "id": "7a87f4f7-a6de-4d2d-9c6c-b5ca3312de2a",
   "metadata": {},
   "outputs": [],
   "source": [
    "import joblib"
   ]
  },
  {
   "cell_type": "code",
   "execution_count": 54,
   "id": "66446f59-59c8-428e-8d86-329bc67421b5",
   "metadata": {},
   "outputs": [
    {
     "data": {
      "text/plain": [
       "['D:/NLP projects/model.pkl']"
      ]
     },
     "execution_count": 54,
     "metadata": {},
     "output_type": "execute_result"
    }
   ],
   "source": [
    "joblib.dump(clf,'D:/NLP projects/model.pkl')"
   ]
  },
  {
   "cell_type": "code",
   "execution_count": 55,
   "id": "4ced6b8b-8ebb-4c03-a04e-56dad5f44106",
   "metadata": {},
   "outputs": [
    {
     "data": {
      "text/plain": [
       "0       [0.0, 0.0, 0.0, 0.0, 0.0, 0.0, 0.0, 0.0, 0.0, ...\n",
       "1       [0.0, 0.0, 0.0, 0.0, 0.0, 0.0, 0.0897695320776...\n",
       "2       [0.0, 0.0, 0.0, 0.0, 0.0, 0.0, 0.0, 0.0, 0.0, ...\n",
       "3       [0.0, 0.0, 0.0, 0.0, 0.0, 0.0, 0.0, 0.0, 0.0, ...\n",
       "4       [0.0, 0.0, 0.0, 0.0, 0.0, 0.0, 0.0328982604648...\n",
       "                              ...                        \n",
       "9895    [0.0, 0.0, 0.0, 0.0, 0.0, 0.0, 0.0, 0.0, 0.0, ...\n",
       "9896    [0.0, 0.0, 0.0, 0.0, 0.0, 0.0, 0.0, 0.0, 0.0, ...\n",
       "9897    [0.0, 0.0, 0.0, 0.0, 0.0, 0.0, 0.0, 0.0, 0.0, ...\n",
       "9898    [0.0, 0.0, 0.0, 0.0, 0.0, 0.0, 0.0, 0.0, 0.0, ...\n",
       "9899    [0.028934469882832443, 0.0, 0.0, 0.0, 0.0, 0.0...\n",
       "Name: vector, Length: 9900, dtype: object"
      ]
     },
     "execution_count": 55,
     "metadata": {},
     "output_type": "execute_result"
    }
   ],
   "source": [
    "df['vector']"
   ]
  },
  {
   "cell_type": "code",
   "execution_count": 57,
   "id": "1e9a4f41-9f19-4121-8f88-d2f63ef3b1f7",
   "metadata": {},
   "outputs": [
    {
     "data": {
      "text/plain": [
       "['D:/NLP projects/vector.pkl']"
      ]
     },
     "execution_count": 57,
     "metadata": {},
     "output_type": "execute_result"
    }
   ],
   "source": [
    "joblib.dump(vectorizer, \"D:/NLP projects/vector.pkl\")"
   ]
  },
  {
   "cell_type": "code",
   "execution_count": null,
   "id": "704bff31-afa8-4f20-99b9-81dc7005fbab",
   "metadata": {},
   "outputs": [],
   "source": []
  }
 ],
 "metadata": {
  "kernelspec": {
   "display_name": "Python 3 (ipykernel)",
   "language": "python",
   "name": "python3"
  },
  "language_info": {
   "codemirror_mode": {
    "name": "ipython",
    "version": 3
   },
   "file_extension": ".py",
   "mimetype": "text/x-python",
   "name": "python",
   "nbconvert_exporter": "python",
   "pygments_lexer": "ipython3",
   "version": "3.10.11"
  }
 },
 "nbformat": 4,
 "nbformat_minor": 5
}
